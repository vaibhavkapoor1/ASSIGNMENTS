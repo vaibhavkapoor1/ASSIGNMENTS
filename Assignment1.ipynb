{
  "nbformat": 4,
  "nbformat_minor": 0,
  "metadata": {
    "colab": {
      "provenance": [],
      "authorship_tag": "ABX9TyPJDVEsIjEkwr+kctsFYt/N",
      "include_colab_link": true
    },
    "kernelspec": {
      "name": "python3",
      "display_name": "Python 3"
    },
    "language_info": {
      "name": "python"
    }
  },
  "cells": [
    {
      "cell_type": "markdown",
      "metadata": {
        "id": "view-in-github",
        "colab_type": "text"
      },
      "source": [
        "<a href=\"https://colab.research.google.com/github/vaibhavkapoor1/ASSIGNMENTS/blob/main/Assignment1.ipynb\" target=\"_parent\"><img src=\"https://colab.research.google.com/assets/colab-badge.svg\" alt=\"Open In Colab\"/></a>"
      ]
    },
    {
      "cell_type": "markdown",
      "source": [
        "### QUESTION 1"
      ],
      "metadata": {
        "id": "7xiF0YKGwv_x"
      }
    },
    {
      "cell_type": "code",
      "execution_count": null,
      "metadata": {
        "id": "0zsKL7i3je47"
      },
      "outputs": [],
      "source": [
        "\n",
        "L=[11,12,13,14]"
      ]
    },
    {
      "cell_type": "code",
      "source": [
        "#(i) part\n",
        "L.append(50)\n",
        "L.append(60)\n",
        "L"
      ],
      "metadata": {
        "colab": {
          "base_uri": "https://localhost:8080/"
        },
        "id": "dSqB2UUWkNkc",
        "outputId": "f0f3470a-705c-45c6-cd5d-76a6ff4839cb"
      },
      "execution_count": null,
      "outputs": [
        {
          "output_type": "execute_result",
          "data": {
            "text/plain": [
              "[11, 12, 13, 14, 50, 60]"
            ]
          },
          "metadata": {},
          "execution_count": 14
        }
      ]
    },
    {
      "cell_type": "code",
      "source": [
        "L=[11,12,13,14]"
      ],
      "metadata": {
        "id": "firA4UnJkhAk"
      },
      "execution_count": null,
      "outputs": []
    },
    {
      "cell_type": "code",
      "source": [
        "#Part(ii)\n",
        "del L[0]\n",
        "del L[1]\n",
        "L"
      ],
      "metadata": {
        "colab": {
          "base_uri": "https://localhost:8080/"
        },
        "id": "Vmhe_RUXlMgn",
        "outputId": "06d7a994-f5d9-4ebf-ac07-b250a4af2882"
      },
      "execution_count": null,
      "outputs": [
        {
          "output_type": "execute_result",
          "data": {
            "text/plain": [
              "[12, 14]"
            ]
          },
          "metadata": {},
          "execution_count": 32
        }
      ]
    },
    {
      "cell_type": "code",
      "source": [
        "#Part (iii),(iv)\n",
        "L=[11,12,13,14]\n",
        "L.sort()\n",
        "print(L)\n",
        "L.sort(reverse=True)\n",
        "L"
      ],
      "metadata": {
        "colab": {
          "base_uri": "https://localhost:8080/"
        },
        "id": "Oj3yLHvHleno",
        "outputId": "58af436c-1920-4a90-a823-1d13bdca8afe"
      },
      "execution_count": null,
      "outputs": [
        {
          "output_type": "stream",
          "name": "stdout",
          "text": [
            "[11, 12, 13, 14]\n"
          ]
        },
        {
          "output_type": "execute_result",
          "data": {
            "text/plain": [
              "[14, 13, 12, 11]"
            ]
          },
          "metadata": {},
          "execution_count": 33
        }
      ]
    },
    {
      "cell_type": "code",
      "source": [
        "#Part (v)\n",
        "L=[11,12,13,14]\n",
        "if (13 in L)==True:\n",
        "  print('Present')\n",
        "else:\n",
        "    print('Absent')"
      ],
      "metadata": {
        "colab": {
          "base_uri": "https://localhost:8080/"
        },
        "id": "rPFG-n8amLXz",
        "outputId": "76230798-636c-4027-dfea-2cfada6ef160"
      },
      "execution_count": null,
      "outputs": [
        {
          "output_type": "stream",
          "name": "stdout",
          "text": [
            "Present\n"
          ]
        }
      ]
    },
    {
      "cell_type": "code",
      "source": [
        "L=[11,12,13,14]\n",
        "print(\"Number of elements in the list:\",len(L))"
      ],
      "metadata": {
        "colab": {
          "base_uri": "https://localhost:8080/"
        },
        "id": "_DitrsiMm_b8",
        "outputId": "143a9fdb-3246-418e-a32d-58972ddea4f0"
      },
      "execution_count": null,
      "outputs": [
        {
          "output_type": "stream",
          "name": "stdout",
          "text": [
            "Number of elements in the list: 4\n"
          ]
        }
      ]
    },
    {
      "cell_type": "code",
      "source": [
        "L=[11,12,13,14]\n",
        "print(sum(L))"
      ],
      "metadata": {
        "colab": {
          "base_uri": "https://localhost:8080/"
        },
        "id": "w0Erbx8DnPLd",
        "outputId": "65736a33-b02a-4ac9-daae-e372a78227af"
      },
      "execution_count": null,
      "outputs": [
        {
          "output_type": "stream",
          "name": "stdout",
          "text": [
            "50\n"
          ]
        }
      ]
    },
    {
      "cell_type": "code",
      "source": [
        "#(viii)\n",
        "L=[11,12,13,14]\n",
        "s=0\n",
        "for i in L:\n",
        "  if i%2==0:\n",
        "    pass\n",
        "  else:\n",
        "    s=s+i\n",
        "print('Sum of odd numbers:',s)\n",
        "    \n"
      ],
      "metadata": {
        "colab": {
          "base_uri": "https://localhost:8080/"
        },
        "id": "wzDMzAvknc8M",
        "outputId": "a4f5efed-f7db-45c5-dcb5-75499eea1756"
      },
      "execution_count": null,
      "outputs": [
        {
          "output_type": "stream",
          "name": "stdout",
          "text": [
            "Sum of odd numbers: 24\n"
          ]
        }
      ]
    },
    {
      "cell_type": "code",
      "source": [
        "#(ix)\n",
        "L=[11,12,13,14]\n",
        "s=0\n",
        "for i in L:\n",
        "  if i%2==0:\n",
        "    s=s+i\n",
        "  else:\n",
        "    pass\n",
        "print('Sum of even numbers:',s)"
      ],
      "metadata": {
        "colab": {
          "base_uri": "https://localhost:8080/"
        },
        "id": "AE5UTooqoQCp",
        "outputId": "db262d93-dca8-4c43-96f2-07818ad4c5f4"
      },
      "execution_count": null,
      "outputs": [
        {
          "output_type": "stream",
          "name": "stdout",
          "text": [
            "Sum of even numbers: 26\n"
          ]
        }
      ]
    },
    {
      "cell_type": "code",
      "source": [
        "#(x)\n",
        "L=[11,12,13,14]\n",
        "s=0\n",
        "def IsPrime(n):\n",
        "\tfor i in range(2, n//2 + 1):\n",
        "\t\tif n%i==0:\n",
        "\t\t\treturn 0\n",
        "\treturn 1\n",
        "\n",
        "for i in L:\n",
        "\tif IsPrime(i) == 1:\n",
        "\t\ts=s+i\n",
        "print(s)\n",
        "\n"
      ],
      "metadata": {
        "colab": {
          "base_uri": "https://localhost:8080/"
        },
        "id": "EavydGgVo5Lp",
        "outputId": "9b1916d8-53e6-4266-eddb-a48e38f788e6"
      },
      "execution_count": null,
      "outputs": [
        {
          "output_type": "stream",
          "name": "stdout",
          "text": [
            "24\n"
          ]
        }
      ]
    },
    {
      "cell_type": "code",
      "source": [
        "#(xi)\n",
        "L=[11,12,13,14]\n",
        "L.clear()\n",
        "L"
      ],
      "metadata": {
        "colab": {
          "base_uri": "https://localhost:8080/"
        },
        "id": "cMNRQuv_uWko",
        "outputId": "4fd02481-20c9-4b0a-9d88-f8d41998e22d"
      },
      "execution_count": null,
      "outputs": [
        {
          "output_type": "execute_result",
          "data": {
            "text/plain": [
              "[]"
            ]
          },
          "metadata": {},
          "execution_count": 65
        }
      ]
    },
    {
      "cell_type": "code",
      "source": [
        "#(xii)\n",
        "L=[11,12,13,14]\n",
        "del (L)\n"
      ],
      "metadata": {
        "id": "K63z5atKv6ns"
      },
      "execution_count": null,
      "outputs": []
    },
    {
      "cell_type": "markdown",
      "source": [
        "### QUESTION 2"
      ],
      "metadata": {
        "id": "JFyK_i52wk2W"
      }
    },
    {
      "cell_type": "code",
      "source": [
        "#(i)\n",
        "D={1:5.6,2:7.8,3:6.6,4:8.7,5:7.7}\n",
        "D[8]=8.8\n",
        "print(D)"
      ],
      "metadata": {
        "colab": {
          "base_uri": "https://localhost:8080/"
        },
        "id": "jVLhqNqbwb66",
        "outputId": "fd54a75e-b77f-4b82-acb9-c0d231e8ae04"
      },
      "execution_count": null,
      "outputs": [
        {
          "output_type": "stream",
          "name": "stdout",
          "text": [
            "{1: 5.6, 2: 7.8, 3: 6.6, 4: 8.7, 5: 7.7, 8: 8.8}\n"
          ]
        }
      ]
    },
    {
      "cell_type": "code",
      "source": [
        "#(ii)\n",
        "D={1:5.6,2:7.8,3:6.6,4:8.7,5:7.7}\n",
        "del D[2]\n",
        "D\n"
      ],
      "metadata": {
        "colab": {
          "base_uri": "https://localhost:8080/"
        },
        "id": "8ETkhtkLxTxZ",
        "outputId": "8916c418-928f-464a-cad9-eec5e53598ba"
      },
      "execution_count": null,
      "outputs": [
        {
          "output_type": "execute_result",
          "data": {
            "text/plain": [
              "{1: 5.6, 3: 6.6, 4: 8.7, 5: 7.7}"
            ]
          },
          "metadata": {},
          "execution_count": 71
        }
      ]
    },
    {
      "cell_type": "code",
      "source": [
        "#(iii)\n",
        "D={1:5.6,2:7.8,3:6.6,4:8.7,5:7.7}\n",
        "print(D)\n",
        "print('Is key 6 present in D-->', 6 in D)"
      ],
      "metadata": {
        "colab": {
          "base_uri": "https://localhost:8080/"
        },
        "id": "03SnSpgTxiPQ",
        "outputId": "8f92acb7-99e8-482b-d4af-bda2792447df"
      },
      "execution_count": null,
      "outputs": [
        {
          "output_type": "stream",
          "name": "stdout",
          "text": [
            "{1: 5.6, 2: 7.8, 3: 6.6, 4: 8.7, 5: 7.7}\n",
            "Is key 6 present in D--> False\n"
          ]
        }
      ]
    },
    {
      "cell_type": "code",
      "source": [
        "#(iv)\n",
        "D={1:5.6,2:7.8,3:6.6,4:8.7,5:7.7}\n",
        "print(len(D))"
      ],
      "metadata": {
        "colab": {
          "base_uri": "https://localhost:8080/"
        },
        "id": "_CqODq_vx0OE",
        "outputId": "d7baa9a4-744e-4e82-fa58-09dc57061ba0"
      },
      "execution_count": null,
      "outputs": [
        {
          "output_type": "stream",
          "name": "stdout",
          "text": [
            "5\n"
          ]
        }
      ]
    },
    {
      "cell_type": "code",
      "source": [
        "#(v)\n",
        "D={1:5.6,2:7.8,3:6.6,4:8.7,5:7.7}\n",
        "list(D.values())\n",
        "s=0\n",
        "for i in D.values():\n",
        "  s=s+i\n",
        "print(s)  \n"
      ],
      "metadata": {
        "colab": {
          "base_uri": "https://localhost:8080/"
        },
        "id": "u4aSAbSFyISa",
        "outputId": "37d82eca-23dd-4930-acc9-f05ce4114a87"
      },
      "execution_count": null,
      "outputs": [
        {
          "output_type": "stream",
          "name": "stdout",
          "text": [
            "36.4\n"
          ]
        }
      ]
    },
    {
      "cell_type": "code",
      "source": [
        "#(vi)\n",
        "D={1:5.6,2:7.8,3:6.6,4:8.7,5:7.7}\n",
        "D[3]=7.1\n",
        "D"
      ],
      "metadata": {
        "colab": {
          "base_uri": "https://localhost:8080/"
        },
        "id": "SFT-E_S7yhKd",
        "outputId": "b4c74a91-f2b3-4388-d533-34ba706c9c4d"
      },
      "execution_count": null,
      "outputs": [
        {
          "output_type": "execute_result",
          "data": {
            "text/plain": [
              "{1: 5.6, 2: 7.8, 3: 7.1, 4: 8.7, 5: 7.7}"
            ]
          },
          "metadata": {},
          "execution_count": 76
        }
      ]
    },
    {
      "cell_type": "code",
      "source": [
        "#(vii)\n",
        "D={1:5.6,2:7.8,3:6.6,4:8.7,5:7.7}\n",
        "D.clear()\n",
        "print(D)"
      ],
      "metadata": {
        "colab": {
          "base_uri": "https://localhost:8080/"
        },
        "id": "vJkiHP2Ayz2y",
        "outputId": "9fc7d64b-b981-46ea-9b6a-7a766fc1d71d"
      },
      "execution_count": null,
      "outputs": [
        {
          "output_type": "stream",
          "name": "stdout",
          "text": [
            "{}\n"
          ]
        }
      ]
    },
    {
      "cell_type": "markdown",
      "source": [
        "### QUESTION 3"
      ],
      "metadata": {
        "id": "UWi3rpR3y7-5"
      }
    },
    {
      "cell_type": "code",
      "source": [
        "#(i)\n",
        "S1=set([10,20,30,40,50,60])\n",
        "S2=set([40,50,60,70,80,90])\n",
        "S1.add(55)\n",
        "S1.add(66)\n",
        "S1"
      ],
      "metadata": {
        "colab": {
          "base_uri": "https://localhost:8080/"
        },
        "id": "witk9I_izBwo",
        "outputId": "24b8c0eb-c722-407c-f1dd-9cc16a2b957e"
      },
      "execution_count": null,
      "outputs": [
        {
          "output_type": "execute_result",
          "data": {
            "text/plain": [
              "{10, 20, 30, 40, 50, 55, 60, 66}"
            ]
          },
          "metadata": {},
          "execution_count": 90
        }
      ]
    },
    {
      "cell_type": "code",
      "source": [
        "#(ii)\n",
        "S1=set([10,20,30,40,50,60])\n",
        "S2=set([40,50,60,70,80,90])\n",
        "S1.remove(10)\n",
        "S1.remove(30)\n",
        "S1\n"
      ],
      "metadata": {
        "colab": {
          "base_uri": "https://localhost:8080/"
        },
        "id": "IyP4HHpEzb-4",
        "outputId": "2149664b-7b4b-4662-b2b4-f2bc1728d4d7"
      },
      "execution_count": null,
      "outputs": [
        {
          "output_type": "execute_result",
          "data": {
            "text/plain": [
              "{20, 40, 50, 60}"
            ]
          },
          "metadata": {},
          "execution_count": 91
        }
      ]
    },
    {
      "cell_type": "code",
      "source": [
        "#(iii)\n",
        "S1=set([10,20,30,40,50,60])\n",
        "S2=set([40,50,60,70,80,90])\n",
        "print(\"40 present in S1-->\", 40 in S1)"
      ],
      "metadata": {
        "colab": {
          "base_uri": "https://localhost:8080/"
        },
        "id": "-VOekg3k0OLd",
        "outputId": "f002a262-7a38-44d1-e90d-91042a36a7bd"
      },
      "execution_count": null,
      "outputs": [
        {
          "output_type": "stream",
          "name": "stdout",
          "text": [
            "40 present in S1--> True\n"
          ]
        }
      ]
    },
    {
      "cell_type": "code",
      "source": [
        "#(iv)\n",
        "S1=set([10,20,30,40,50,60])\n",
        "S2=set([40,50,60,70,80,90])\n",
        "print(S1.union(S2))"
      ],
      "metadata": {
        "colab": {
          "base_uri": "https://localhost:8080/"
        },
        "id": "VrYZZWv-0lP6",
        "outputId": "4b3b3e1c-dde2-4dcf-d291-8a11001dc2b0"
      },
      "execution_count": null,
      "outputs": [
        {
          "output_type": "stream",
          "name": "stdout",
          "text": [
            "{70, 40, 10, 80, 50, 20, 90, 60, 30}\n"
          ]
        }
      ]
    },
    {
      "cell_type": "code",
      "source": [
        "#(v)\n",
        "S1=set([10,20,30,40,50,60])\n",
        "S2=set([40,50,60,70,80,90])\n",
        "print(S1.intersection(S2))"
      ],
      "metadata": {
        "colab": {
          "base_uri": "https://localhost:8080/"
        },
        "id": "6BjpvTRS0uDr",
        "outputId": "2ef078ec-1aef-48e5-ea99-64647bc12637"
      },
      "execution_count": null,
      "outputs": [
        {
          "output_type": "stream",
          "name": "stdout",
          "text": [
            "{40, 50, 60}\n"
          ]
        }
      ]
    },
    {
      "cell_type": "code",
      "source": [
        "#(vi)\n",
        "S1=set([10,20,30,40,50,60])\n",
        "S2=set([40,50,60,70,80,90])\n",
        "print(S1.difference(S2))"
      ],
      "metadata": {
        "colab": {
          "base_uri": "https://localhost:8080/"
        },
        "id": "xdh4vM-p2CUR",
        "outputId": "0f24a7a5-819e-4bc0-eb59-3bb40340e093"
      },
      "execution_count": null,
      "outputs": [
        {
          "output_type": "stream",
          "name": "stdout",
          "text": [
            "{10, 20, 30}\n"
          ]
        }
      ]
    },
    {
      "cell_type": "markdown",
      "source": [
        "### QUESTION 4"
      ],
      "metadata": {
        "id": "3k_RwSfJ2at_"
      }
    },
    {
      "cell_type": "code",
      "source": [
        "#(i)\n",
        "import random as r\n",
        "import string as s\n",
        "\n",
        "\n",
        "random_strings = []\n",
        "for _ in range(100):\n",
        "    length = r.randint(6, 8)\n",
        "    random_string = ''.join(r.sample(s.ascii_letters + s.digits, k=length))\n",
        "    random_strings.append(random_string)\n",
        "\n",
        "for i, string in enumerate(random_strings, 1):\n",
        "    print(f\"String {i}:{string}\")\n"
      ],
      "metadata": {
        "colab": {
          "base_uri": "https://localhost:8080/"
        },
        "id": "j_08N9Eg2g8l",
        "outputId": "8418efcf-bdda-4913-c35a-9a257d6080a0"
      },
      "execution_count": 70,
      "outputs": [
        {
          "output_type": "stream",
          "name": "stdout",
          "text": [
            "String 1:w5Fa0PAm\n",
            "String 2:YhTirwtN\n",
            "String 3:jLhWVs\n",
            "String 4:jgqYSt\n",
            "String 5:MWOBZgD\n",
            "String 6:3dr6U2x\n",
            "String 7:lwRIi2fT\n",
            "String 8:BLkux785\n",
            "String 9:sAotmbi\n",
            "String 10:vlLh6zb\n",
            "String 11:o5uXZWF\n",
            "String 12:87nKWQ4\n",
            "String 13:aPjN0DGL\n",
            "String 14:Gj5BwP\n",
            "String 15:f3xvAY\n",
            "String 16:RlrUWHs\n",
            "String 17:D39W5QSG\n",
            "String 18:yOKs3Qq\n",
            "String 19:FMt4Nznd\n",
            "String 20:L5X3kz\n",
            "String 21:ugoaBGAX\n",
            "String 22:ZjYbc7M\n",
            "String 23:dSIFcxh8\n",
            "String 24:g3hJno\n",
            "String 25:FmWar01\n",
            "String 26:AIqlYbyh\n",
            "String 27:lKZvWu\n",
            "String 28:CAReksFx\n",
            "String 29:CyDax3r\n",
            "String 30:Jo6AdQ1\n",
            "String 31:FkAmU0r4\n",
            "String 32:PDo8KdT\n",
            "String 33:xCNaUQG\n",
            "String 34:UB08sHbR\n",
            "String 35:UeaXqI\n",
            "String 36:SfsdgNQ\n",
            "String 37:5IcvpW\n",
            "String 38:bRsuxQ\n",
            "String 39:RJZKvj\n",
            "String 40:98kJVcml\n",
            "String 41:atH6LvX\n",
            "String 42:O4f8HRZd\n",
            "String 43:l4m2jE\n",
            "String 44:81zk36Ti\n",
            "String 45:Ld0wCT\n",
            "String 46:6KDm1pvB\n",
            "String 47:y03ULm\n",
            "String 48:K4TEX3vB\n",
            "String 49:50MEFn\n",
            "String 50:qDkvHK2r\n",
            "String 51:aCP0oE\n",
            "String 52:PSX7WdIr\n",
            "String 53:rTJpdY\n",
            "String 54:BsKYEi\n",
            "String 55:kLNVOe4a\n",
            "String 56:exUmuTiL\n",
            "String 57:UIJhgQK\n",
            "String 58:NL7QdS\n",
            "String 59:PiyKzNC\n",
            "String 60:ZT6q1pe\n",
            "String 61:bDj0EhNC\n",
            "String 62:qntZsLCa\n",
            "String 63:yxDL8KZP\n",
            "String 64:shZa7Fk\n",
            "String 65:uEAX6h7\n",
            "String 66:r6hM1sAW\n",
            "String 67:AgnseI\n",
            "String 68:RUrI3fC\n",
            "String 69:kBifcdlG\n",
            "String 70:WkyrtTFQ\n",
            "String 71:9THZMn\n",
            "String 72:v9HwByS6\n",
            "String 73:06efMS\n",
            "String 74:8AyW1R5\n",
            "String 75:OweKLaX\n",
            "String 76:90EfBbl1\n",
            "String 77:LPf7mUg\n",
            "String 78:sE3b1ke\n",
            "String 79:Ma70nY\n",
            "String 80:1g38JjM\n",
            "String 81:0ghIF4W\n",
            "String 82:yUN2x8F\n",
            "String 83:x7uQs3ME\n",
            "String 84:IonMps\n",
            "String 85:sRyUN9K\n",
            "String 86:A4RgG0Ii\n",
            "String 87:Lx3FY9d\n",
            "String 88:qRDasuJ3\n",
            "String 89:G7p5D9Vd\n",
            "String 90:vIkFAY\n",
            "String 91:Oz92Xw\n",
            "String 92:vqz2DTM\n",
            "String 93:cEpIiR\n",
            "String 94:c56UMkYd\n",
            "String 95:yaBcu0m\n",
            "String 96:sEjoKWNU\n",
            "String 97:LET2j6\n",
            "String 98:EvhKib\n",
            "String 99:RgjiF05t\n",
            "String 100:dhEcsP\n"
          ]
        }
      ]
    },
    {
      "cell_type": "code",
      "source": [
        "#(ii)\n",
        "def Isprime(n):\n",
        "  for i in range(2,n//2+1):\n",
        "    if n%i==0:\n",
        "      return 0\n",
        "  return 1\n",
        "for i in range(600,801):\n",
        "  if Isprime(i)==1:\n",
        "    print(i)"
      ],
      "metadata": {
        "colab": {
          "base_uri": "https://localhost:8080/"
        },
        "id": "kpT85sMj3BCX",
        "outputId": "e51235b9-5304-4e01-8485-066c9d413437"
      },
      "execution_count": null,
      "outputs": [
        {
          "output_type": "stream",
          "name": "stdout",
          "text": [
            "601\n",
            "607\n",
            "613\n",
            "617\n",
            "619\n",
            "631\n",
            "641\n",
            "643\n",
            "647\n",
            "653\n",
            "659\n",
            "661\n",
            "673\n",
            "677\n",
            "683\n",
            "691\n",
            "701\n",
            "709\n",
            "719\n",
            "727\n",
            "733\n",
            "739\n",
            "743\n",
            "751\n",
            "757\n",
            "761\n",
            "769\n",
            "773\n",
            "787\n",
            "797\n"
          ]
        }
      ]
    },
    {
      "cell_type": "code",
      "source": [
        "#(iii)\n",
        "for i in range(100,1001):\n",
        "  if i%7==0 and i%9==0:\n",
        "    print(i)\n"
      ],
      "metadata": {
        "colab": {
          "base_uri": "https://localhost:8080/"
        },
        "id": "zueSc5y374z2",
        "outputId": "76d0b480-fab4-422a-9942-9a2b239fecb1"
      },
      "execution_count": null,
      "outputs": [
        {
          "output_type": "stream",
          "name": "stdout",
          "text": [
            "126\n",
            "189\n",
            "252\n",
            "315\n",
            "378\n",
            "441\n",
            "504\n",
            "567\n",
            "630\n",
            "693\n",
            "756\n",
            "819\n",
            "882\n",
            "945\n"
          ]
        }
      ]
    },
    {
      "cell_type": "markdown",
      "source": [
        "### QUESTION 5"
      ],
      "metadata": {
        "id": "OuxwoGle-y1R"
      }
    },
    {
      "cell_type": "code",
      "source": [
        "#(i)\n",
        "import random as r\n",
        "\n",
        "\n",
        "A=list(r.sample(range(10,30),10))\n",
        "B=list(r.sample(range(10,30),10))\n",
        "print(A)\n",
        "print(B)\n",
        "for i in range(0,10):\n",
        "  for j in range(0,10):\n",
        "    if (A[i]==B[j]):\n",
        "      print(A[i])"
      ],
      "metadata": {
        "colab": {
          "base_uri": "https://localhost:8080/"
        },
        "id": "_UtJYJR7_N6A",
        "outputId": "ab9f14a7-1a75-45e2-a949-8362beaa7a04"
      },
      "execution_count": null,
      "outputs": [
        {
          "output_type": "stream",
          "name": "stdout",
          "text": [
            "[22, 21, 10, 14, 25, 13, 23, 28, 12, 11]\n",
            "[12, 21, 25, 19, 14, 17, 23, 13, 10, 18]\n",
            "21\n",
            "10\n",
            "14\n",
            "25\n",
            "13\n",
            "23\n",
            "12\n"
          ]
        }
      ]
    },
    {
      "cell_type": "code",
      "source": [
        "#(ii)\n",
        "import random as r\n",
        "\n",
        "# Generate two lists of random numbers\n",
        "A = r.sample(range(10, 31), 10)\n",
        "B = r.sample(range(10, 31), 10)\n",
        "\n",
        "# Find unique numbers in both lists\n",
        "unique_numbers = list(set(A) & set(B))\n",
        "\n",
        "\n",
        "print(\"List 1:\", A)\n",
        "print(\"List 2:\", B)\n",
        "print(\"Unique numbers:\", unique_numbers)\n",
        "\n",
        "            \n"
      ],
      "metadata": {
        "colab": {
          "base_uri": "https://localhost:8080/"
        },
        "id": "ZrutlMQY_tql",
        "outputId": "2ffa8ef0-8692-4c7b-8c0e-9eaa8f24ff2e"
      },
      "execution_count": 67,
      "outputs": [
        {
          "output_type": "stream",
          "name": "stdout",
          "text": [
            "List 1: [11, 19, 29, 10, 30, 13, 15, 25, 28, 14]\n",
            "List 2: [24, 25, 10, 14, 28, 26, 23, 30, 17, 27]\n",
            "Unique numbers: [10, 14, 25, 28, 30]\n"
          ]
        }
      ]
    },
    {
      "cell_type": "code",
      "source": [
        "#(iii),(iv)\n",
        "import random as r\n",
        "\n",
        "\n",
        "A=list(r.sample(range(10,30),10))\n",
        "B=list(r.sample(range(10,30),10))\n",
        "print(A)\n",
        "print(B)\n",
        "print(min(A))\n",
        "print(min(B))"
      ],
      "metadata": {
        "id": "ZD8J5BYRBF3V",
        "colab": {
          "base_uri": "https://localhost:8080/"
        },
        "outputId": "71bbd762-d0df-4ffa-a7e7-44de9c268495"
      },
      "execution_count": 4,
      "outputs": [
        {
          "output_type": "stream",
          "name": "stdout",
          "text": [
            "[16, 22, 25, 15, 21, 14, 10, 12, 24, 13]\n",
            "[14, 17, 27, 18, 24, 20, 19, 28, 15, 12]\n",
            "10\n",
            "12\n"
          ]
        }
      ]
    },
    {
      "cell_type": "code",
      "source": [
        "#(v)\n",
        "import random as r\n",
        "\n",
        "\n",
        "A=list(r.sample(range(10,30),10))\n",
        "B=list(r.sample(range(10,30),10))\n",
        "print(A)\n",
        "print(B)\n",
        "print(sum(A)+sum(B))\n"
      ],
      "metadata": {
        "colab": {
          "base_uri": "https://localhost:8080/"
        },
        "id": "EmkQhsPr3ys9",
        "outputId": "358bb39b-9df8-4586-f74a-b825719dee09"
      },
      "execution_count": 12,
      "outputs": [
        {
          "output_type": "stream",
          "name": "stdout",
          "text": [
            "[24, 29, 27, 25, 14, 13, 23, 28, 18, 12]\n",
            "[14, 10, 19, 26, 15, 22, 24, 28, 21, 18]\n",
            "410\n"
          ]
        }
      ]
    },
    {
      "cell_type": "markdown",
      "source": [
        "### QUESTION 6"
      ],
      "metadata": {
        "id": "n-ufd7GM5bB0"
      }
    },
    {
      "cell_type": "code",
      "source": [
        "#(i)\n",
        "import random as r\n",
        "\n",
        "A=list(r.sample(range(100,900),100))\n",
        "print(A)\n",
        "\n",
        "for i in A:\n",
        "  if (i%2==0):\n",
        "    print(i)\n",
        "  else:\n",
        "    pass\n"
      ],
      "metadata": {
        "colab": {
          "base_uri": "https://localhost:8080/"
        },
        "id": "OAAvfFvi4SmO",
        "outputId": "8878466e-510a-4b00-ecba-99e797ed0505"
      },
      "execution_count": 15,
      "outputs": [
        {
          "output_type": "stream",
          "name": "stdout",
          "text": [
            "[489, 320, 725, 861, 219, 189, 153, 627, 706, 821, 210, 629, 218, 435, 674, 726, 846, 548, 170, 822, 155, 678, 398, 117, 137, 140, 322, 605, 652, 196, 227, 381, 636, 541, 876, 129, 860, 587, 352, 440, 722, 771, 389, 483, 459, 811, 299, 566, 770, 307, 543, 694, 883, 897, 686, 374, 136, 819, 891, 426, 584, 420, 259, 777, 575, 698, 562, 402, 886, 559, 799, 536, 138, 647, 734, 518, 385, 392, 509, 830, 258, 151, 447, 412, 616, 234, 866, 461, 765, 125, 362, 717, 510, 598, 625, 131, 862, 596, 712, 306]\n",
            "320\n",
            "706\n",
            "210\n",
            "218\n",
            "674\n",
            "726\n",
            "846\n",
            "548\n",
            "170\n",
            "822\n",
            "678\n",
            "398\n",
            "140\n",
            "322\n",
            "652\n",
            "196\n",
            "636\n",
            "876\n",
            "860\n",
            "352\n",
            "440\n",
            "722\n",
            "566\n",
            "770\n",
            "694\n",
            "686\n",
            "374\n",
            "136\n",
            "426\n",
            "584\n",
            "420\n",
            "698\n",
            "562\n",
            "402\n",
            "886\n",
            "536\n",
            "138\n",
            "734\n",
            "518\n",
            "392\n",
            "830\n",
            "258\n",
            "412\n",
            "616\n",
            "234\n",
            "866\n",
            "362\n",
            "510\n",
            "598\n",
            "862\n",
            "596\n",
            "712\n",
            "306\n"
          ]
        }
      ]
    },
    {
      "cell_type": "code",
      "source": [
        "#(ii)\n",
        "import random as r\n",
        "\n",
        "A=list(r.sample(range(100,900),100))\n",
        "print(A)\n",
        "\n",
        "for i in A:\n",
        "  if (i%2==0):\n",
        "    pass\n",
        "  else:\n",
        "    print(i)"
      ],
      "metadata": {
        "colab": {
          "base_uri": "https://localhost:8080/"
        },
        "id": "028Xba_K6Nbm",
        "outputId": "6c940089-b7fd-45f6-dac4-cffc55832362"
      },
      "execution_count": 16,
      "outputs": [
        {
          "output_type": "stream",
          "name": "stdout",
          "text": [
            "[389, 498, 366, 742, 277, 244, 207, 164, 721, 614, 659, 541, 708, 818, 806, 509, 892, 891, 559, 682, 197, 854, 757, 119, 429, 846, 373, 610, 427, 526, 198, 314, 438, 369, 273, 228, 838, 692, 265, 688, 862, 162, 628, 122, 480, 762, 502, 396, 481, 706, 515, 851, 328, 702, 635, 872, 165, 138, 653, 130, 473, 327, 475, 553, 313, 864, 574, 810, 117, 105, 594, 743, 668, 351, 493, 730, 349, 639, 417, 128, 488, 824, 219, 603, 780, 416, 243, 790, 468, 127, 711, 166, 771, 875, 508, 685, 365, 399, 216, 271]\n",
            "389\n",
            "277\n",
            "207\n",
            "721\n",
            "659\n",
            "541\n",
            "509\n",
            "891\n",
            "559\n",
            "197\n",
            "757\n",
            "119\n",
            "429\n",
            "373\n",
            "427\n",
            "369\n",
            "273\n",
            "265\n",
            "481\n",
            "515\n",
            "851\n",
            "635\n",
            "165\n",
            "653\n",
            "473\n",
            "327\n",
            "475\n",
            "553\n",
            "313\n",
            "117\n",
            "105\n",
            "743\n",
            "351\n",
            "493\n",
            "349\n",
            "639\n",
            "417\n",
            "219\n",
            "603\n",
            "243\n",
            "127\n",
            "711\n",
            "771\n",
            "875\n",
            "685\n",
            "365\n",
            "399\n",
            "271\n"
          ]
        }
      ]
    },
    {
      "cell_type": "code",
      "source": [
        "#(iii)\n",
        "import random as r\n",
        "def isprime(n):\n",
        "  for i in range(2,n//2+1):\n",
        "    if (n%i==0):\n",
        "      return 0\n",
        "  return 1\n",
        "\n",
        "\n",
        "A=list(r.sample(range(100,900),100))\n",
        "print(A)\n",
        "for i in A:\n",
        "  if isprime(i)==1:\n",
        "    print(i)\n",
        "  \n"
      ],
      "metadata": {
        "colab": {
          "base_uri": "https://localhost:8080/"
        },
        "id": "__nRp9xK6gJK",
        "outputId": "d6589869-9747-4d5e-e04c-c749137f7b5e"
      },
      "execution_count": 18,
      "outputs": [
        {
          "output_type": "stream",
          "name": "stdout",
          "text": [
            "[338, 366, 849, 204, 124, 216, 643, 787, 764, 576, 325, 223, 695, 895, 596, 759, 145, 714, 600, 785, 629, 478, 122, 125, 188, 281, 674, 604, 334, 491, 519, 135, 452, 192, 168, 198, 603, 819, 314, 652, 696, 691, 800, 734, 791, 394, 186, 660, 506, 771, 252, 179, 534, 332, 623, 607, 315, 273, 214, 389, 590, 702, 606, 872, 465, 202, 193, 651, 271, 890, 460, 469, 670, 367, 745, 843, 316, 407, 517, 289, 837, 181, 482, 836, 113, 207, 556, 378, 284, 128, 274, 443, 132, 415, 130, 195, 792, 374, 575, 586]\n",
            "643\n",
            "787\n",
            "223\n",
            "281\n",
            "491\n",
            "691\n",
            "179\n",
            "607\n",
            "389\n",
            "193\n",
            "271\n",
            "367\n",
            "181\n",
            "113\n",
            "443\n"
          ]
        }
      ]
    },
    {
      "cell_type": "markdown",
      "source": [
        "### QUESTION 7"
      ],
      "metadata": {
        "id": "hNfJo4Rk76GX"
      }
    },
    {
      "cell_type": "code",
      "source": [
        "D={1:\"One\",2:\"Two\",3:\"Three\",4:\"Four\",5:\"Five\"}\n",
        "K=print(D.keys())\n",
        "V=print(D.values())"
      ],
      "metadata": {
        "colab": {
          "base_uri": "https://localhost:8080/"
        },
        "id": "HMOMdK5z7IKh",
        "outputId": "67b14b79-6bbe-4aa2-f05a-7dbf96c6d193"
      },
      "execution_count": 22,
      "outputs": [
        {
          "output_type": "stream",
          "name": "stdout",
          "text": [
            "dict_keys([1, 2, 3, 4, 5])\n",
            "dict_values(['One', 'Two', 'Three', 'Four', 'Five'])\n"
          ]
        }
      ]
    },
    {
      "cell_type": "code",
      "source": [
        "D={1:\"One\",2:\"Two\",3:\"Three\",4:\"Four\",5:\"Five\"}\n",
        "D.items()\n",
        "fp=open('dictionary.txt','w')\n",
        "for K,V in D.items():\n",
        "  fp.write(f\"Key{K},Value{V}\\n\")\n",
        " \n",
        "fp.close()"
      ],
      "metadata": {
        "id": "AHTiqItj88fG"
      },
      "execution_count": 39,
      "outputs": []
    },
    {
      "cell_type": "markdown",
      "source": [
        "### QUESTION 8"
      ],
      "metadata": {
        "id": "KJ-x3ebBBJoq"
      }
    },
    {
      "cell_type": "code",
      "source": [
        "L={\"One\",\"Two\",\"Three\",\"Four\",\"Five\"}\n",
        "fo=open('list.txt','w')\n",
        "for i in L:\n",
        "  length=len(i)\n",
        "  fo.write(f\"{i},{length}\\n\")\n",
        "fo.close()"
      ],
      "metadata": {
        "id": "6Slu2Oy-902E"
      },
      "execution_count": 44,
      "outputs": []
    },
    {
      "cell_type": "markdown",
      "source": [
        "### QUESTION 9\n"
      ],
      "metadata": {
        "id": "cJXbjzbcDdH2"
      }
    },
    {
      "cell_type": "code",
      "source": [
        "import random\n",
        "import string\n",
        "\n",
        "\n",
        "def generate_random_string(length):\n",
        "    return ''.join(random.choice(string.ascii_letters) for _ in range(length))\n",
        "\n",
        "\n",
        "with open(\"random.txt\", \"w\") as file:\n",
        "    for _ in range(100):\n",
        "        random_length = random.randint(10, 15)\n",
        "        random_string = generate_random_string(random_length)\n",
        "        file.write(f\"{random_string}\\n\")\n",
        "\n",
        "\n"
      ],
      "metadata": {
        "id": "ejXyTA5fBh0i"
      },
      "execution_count": 53,
      "outputs": []
    },
    {
      "cell_type": "markdown",
      "source": [
        "### QUESTION 10"
      ],
      "metadata": {
        "id": "4SbzU7xLGZAw"
      }
    },
    {
      "cell_type": "code",
      "source": [
        "def isprime(n):\n",
        "  for i in range(2,n//2+1):\n",
        "    if (n%i==0):\n",
        "      return 0\n",
        "  return 1\n",
        "\n",
        "fp=open('prime.txt','w')\n",
        "for i in range(600,800):\n",
        "  if isprime(i)==1:\n",
        "    fp.write(f\"{i}\\n\")\n",
        "fp.close()"
      ],
      "metadata": {
        "id": "WIqT2RjBD0K7"
      },
      "execution_count": 56,
      "outputs": []
    },
    {
      "cell_type": "markdown",
      "source": [
        "### QUESTION 11"
      ],
      "metadata": {
        "id": "5wvO0YSgHm54"
      }
    },
    {
      "cell_type": "code",
      "source": [
        "#we use the program of previous question for this question\n",
        "import time\n",
        "start=time.time()\n",
        "def isprime(n):\n",
        "  for i in range(2,n//2+1):\n",
        "    if (n%i==0):\n",
        "      return 0\n",
        "  return 1\n",
        "\n",
        "fp=open('prime.txt','w')\n",
        "for i in range(600,800):\n",
        "  if isprime(i)==1:\n",
        "    fp.write(f\"{i}\\n\")\n",
        "fp.close()\n",
        "\n",
        "end=time.time()\n",
        "time_taken=end-start\n",
        "print(f\"Time taken:{time_taken} seconds\")"
      ],
      "metadata": {
        "colab": {
          "base_uri": "https://localhost:8080/"
        },
        "id": "a6ZFNMfdHGfh",
        "outputId": "b314c694-105c-4c13-d229-949996d91689"
      },
      "execution_count": 61,
      "outputs": [
        {
          "output_type": "stream",
          "name": "stdout",
          "text": [
            "Time taken:0.0018568038940429688 seconds\n"
          ]
        }
      ]
    },
    {
      "cell_type": "markdown",
      "source": [
        "### QUESTION 12"
      ],
      "metadata": {
        "id": "-MCobtipI3F6"
      }
    },
    {
      "cell_type": "code",
      "source": [
        "import time\n",
        "import matplotlib.pyplot as plt\n",
        "\n",
        "def sort_list(numbers):\n",
        "    start_time = time.time()\n",
        "    sorted_list = sorted(numbers)\n",
        "    end_time = time.time()\n",
        "    elapsed_time = end_time - start_time\n",
        "    return sorted_list, elapsed_time\n",
        "\n",
        "\n",
        "def plot_graph(x_values, y_values):\n",
        "    plt.plot(x_values, y_values)\n",
        "    plt.xlabel('Number of Elements')\n",
        "    plt.ylabel('Time Taken (seconds)')\n",
        "    plt.title('Sorting Time')\n",
        "    plt.show()\n",
        "\n",
        "num_elements = [5000, 10000, 15000, 20000, 25000]\n",
        "\n",
        "\n",
        "time_taken = []\n",
        "\n",
        "\n",
        "for num in num_elements:\n",
        "   \n",
        "    numbers = [random.randint(1, 1000) for _ in range(num)]\n",
        "\n",
        "    \n",
        "    _, elapsed_time = sort_list(numbers)\n",
        "    time_taken.append(elapsed_time)\n",
        "\n",
        "\n",
        "plot_graph(num_elements, time_taken)\n"
      ],
      "metadata": {
        "colab": {
          "base_uri": "https://localhost:8080/",
          "height": 472
        },
        "id": "7GO9ZIZnIBed",
        "outputId": "89808dd5-ab85-42fd-f548-f10fba98a26c"
      },
      "execution_count": 64,
      "outputs": [
        {
          "output_type": "display_data",
          "data": {
            "text/plain": [
              "<Figure size 640x480 with 1 Axes>"
            ],
            "image/png": "[encoded data removed]"
          },
          "metadata": {}
        }
      ]
    },
    {
      "cell_type": "markdown",
      "source": [
        "### QUESTION 13\n"
      ],
      "metadata": {
        "id": "G_S828QSKGOj"
      }
    },
    {
      "cell_type": "markdown",
      "source": [],
      "metadata": {
        "id": "4jyPBzb_KL5M"
      }
    },
    {
      "cell_type": "code",
      "source": [
        "\n",
        "student_marks = {\n",
        "    \"Rohan\": [85, 92, 78, 90, 88],\n",
        "    \"Ram\": [90, 88, 94, 82, 76],\n",
        "    \"Shyam\": [79, 86, 92, 88, 94],\n",
        "    \"Simran\": [92, 90, 88, 82, 85],\n",
        "    \"Anjali\": [88, 94, 90, 85, 92]\n",
        "}\n",
        "\n",
        "\n",
        "average_marks = {}\n",
        "\n",
        "for student, marks in student_marks.items():\n",
        "    total_marks = sum(marks)\n",
        "    average_marks[student] = total_marks / len(marks)\n",
        "\n",
        "\n",
        "max_student = max(average_marks, key=average_marks.get)\n",
        "max_marks = average_marks[max_student]\n",
        "\n",
        "\n",
        "min_student = min(average_marks, key=average_marks.get)\n",
        "min_marks = average_marks[min_student]\n",
        "\n",
        "print(f\"Student with maximum average marks: {max_student} ({max_marks})\")\n",
        "print(f\"Student with minimum average marks: {min_student} ({min_marks})\")\n"
      ],
      "metadata": {
        "colab": {
          "base_uri": "https://localhost:8080/"
        },
        "id": "vgywmJqGKb9Z",
        "outputId": "2e73ca15-cc79-463c-c157-e799197ff275"
      },
      "execution_count": 66,
      "outputs": [
        {
          "output_type": "stream",
          "name": "stdout",
          "text": [
            "Student with maximum average marks: Anjali (89.8)\n",
            "Student with minimum average marks: Ram (86.0)\n"
          ]
        }
      ]
    }
  ]
}